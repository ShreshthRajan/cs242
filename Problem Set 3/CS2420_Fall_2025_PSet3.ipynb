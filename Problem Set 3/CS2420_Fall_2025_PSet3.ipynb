{
 "cells": [
  {
   "cell_type": "markdown",
   "id": "HFC-bcR8NOwn",
   "metadata": {
    "id": "HFC-bcR8NOwn"
   },
   "source": [
    "# Problem Set 3 (PSet 3): Language Model Assisted Development"
   ]
  },
  {
   "cell_type": "markdown",
   "id": "edhnmQ7TNUg_",
   "metadata": {
    "id": "edhnmQ7TNUg_"
   },
   "source": [
    "> Harvard CS 2420: Computing at Scale (Fall 2025)\n",
    ">\n",
    "> Instructor: H.T. Kung"
   ]
  },
  {
   "cell_type": "markdown",
   "id": "QZGN_cJ-aRSh",
   "metadata": {
    "id": "QZGN_cJ-aRSh"
   },
   "source": [
    "Team #:\n",
    "\n",
    "Team Members:\n",
    "- Member 1\n",
    "- Member 2\n",
    "- Member 3\n",
    "- Member 4"
   ]
  },
  {
   "cell_type": "markdown",
   "id": "ch0bpjLzNYAc",
   "metadata": {
    "id": "ch0bpjLzNYAc"
   },
   "source": [
    "### **Assignment Instructions**\n",
    "\n",
    "Please read the following instructions carefully before starting the assignment and again before submitting your work:\n",
    "\n",
    "- Please enter your team number and the names of all team members in the text cell above.\n",
    "- This file will be used as a reference for responses submitted in your write-up.\n",
    "- Please indicate any changes or implementations suggested by a language model.\n",
    "- **Do not** modify the `assert` statements in the *Testing and Validation*  section.\n",
    "- You are otherwise welcome to add new cells or modify existing ones as you experiment."
   ]
  },
  {
   "cell_type": "markdown",
   "id": "LMegZitXbrOH",
   "metadata": {
    "id": "LMegZitXbrOH"
   },
   "source": [
    "## Starter Code\n",
    "\n",
    "Here are some (flawed) helper functions to get started."
   ]
  },
  {
   "cell_type": "code",
   "execution_count": null,
   "id": "2Lr_UXqmK4Z4",
   "metadata": {
    "id": "2Lr_UXqmK4Z4"
   },
   "outputs": [],
   "source": "def is_prime(x: int) -> bool:\n    \"\"\"\n    Return whether a given integer is prime.\n\n    Parameters\n    ----------\n    x : int\n        The number to check.\n\n    Returns\n    -------\n    bool\n        Whether x is prime.\n    \"\"\"\n    # FIX: Handle edge cases - numbers less than 2 are not prime\n    if x < 2:\n        return False\n\n    # FIX: Only check divisors up to sqrt(x) for efficiency\n    # FIX: Break early when divisor found\n    for i in range(2, int(x ** 0.5) + 1):\n        if x % i == 0:\n            return False  # Found a divisor, not prime\n\n    return True  # No divisors found, is prime"
  },
  {
   "cell_type": "code",
   "execution_count": null,
   "id": "09c65d17",
   "metadata": {
    "id": "09c65d17"
   },
   "outputs": [],
   "source": "def generate_prime_list(M: int) -> list[int]:\n    \"\"\"\n    Return a list of all primes less than or equal to M.\n\n    Parameters\n    ----------\n    M : int\n        The maximum value.\n\n    Returns\n    -------\n    list[int]\n        List of all primes less than or equal to M.\n    \"\"\"\n    primes: list[int] = []\n\n    # FIX: range(M) only goes up to M-1, need range(M+1) to include M\n    for m in range(M + 1):\n        if is_prime(m):\n            primes.append(m)\n\n    return primes"
  },
  {
   "cell_type": "markdown",
   "id": "yYco244vJjoM",
   "metadata": {
    "id": "yYco244vJjoM"
   },
   "source": [
    "The following function is the core part of our program. (Again, there are bugs!)"
   ]
  },
  {
   "cell_type": "code",
   "execution_count": null,
   "id": "Tz4LwLbXJiui",
   "metadata": {
    "id": "Tz4LwLbXJiui"
   },
   "outputs": [],
   "source": "def generate_cubed_primes_below(N: int = 500, K: int = 5) -> tuple[list[int], int]:\n    \"\"\"\n    Return in ascending order the K largest prime numbers that, when cubed, are less than or equal to N.\n\n    Parameters\n    ----------\n    N : int\n        The maximum value.\n\n    K : int\n        The number of primes, at most, to return.\n\n    Returns\n    -------\n    list[int]\n        List of primes in ascending order.\n\n    int\n        Number of valid primes returned.\n    \"\"\"\n\n    num_primes = 0\n    valid_primes: list[int] = []\n\n    # FIX: Generate prime list once before loop (not inside loop)\n    # Only need primes up to cube root of N\n    max_prime = int(N ** (1/3)) + 1\n    prime_list = generate_prime_list(max_prime)\n\n    n = 0\n    while n * n * n <= N:\n        # accept n if it is prime and not already found\n        if n in prime_list and n not in valid_primes:\n            valid_primes.append(n)\n            num_primes += 1\n\n        # increment n\n        n += 1\n\n    # Return K largest primes and actual count\n    result_primes = valid_primes[-K:]\n    return result_primes, len(result_primes)"
  },
  {
   "cell_type": "markdown",
   "id": "694de0a9",
   "metadata": {
    "id": "694de0a9"
   },
   "source": [
    "# Testing and Validation\n",
    "\n",
    "**Do not modify the assertions in this section.**\n",
    "\n",
    "These tests have been included as sanity checks (and may be useful when prompting LMs).\n",
    "When all of the code is correct, all `assert` statements will pass without errors.\n"
   ]
  },
  {
   "cell_type": "code",
   "execution_count": null,
   "id": "4f8a1d42",
   "metadata": {
    "id": "4f8a1d42"
   },
   "outputs": [],
   "source": [
    "# Zero, unit, and composite numbers\n",
    "assert not is_prime(0)\n",
    "assert not is_prime(1)\n",
    "assert not is_prime(10)\n",
    "assert not is_prime(99)\n",
    "assert not is_prime(128)\n",
    "\n",
    "# Prime numbers\n",
    "assert is_prime(2)\n",
    "assert is_prime(17)\n",
    "assert is_prime(2111)\n",
    "assert is_prime(7127)"
   ]
  },
  {
   "cell_type": "code",
   "execution_count": null,
   "id": "b4c9ea76",
   "metadata": {
    "id": "b4c9ea76"
   },
   "outputs": [],
   "source": [
    "assert generate_prime_list(0) == []\n",
    "assert generate_prime_list(2) == [2]\n",
    "assert generate_prime_list(8) == [2, 3, 5, 7]\n",
    "assert generate_prime_list(20) == [2, 3, 5, 7, 11, 13, 17, 19]"
   ]
  },
  {
   "cell_type": "code",
   "execution_count": null,
   "id": "3d206f47",
   "metadata": {
    "id": "3d206f47"
   },
   "outputs": [],
   "source": [
    "assert generate_cubed_primes_below(N = 100, K = 3) == ([2, 3], 2)\n",
    "assert generate_cubed_primes_below(N = 1000, K = 3) == ([3, 5, 7], 3)\n",
    "assert generate_cubed_primes_below(N = 10000, K = 3) == ([13, 17, 19], 3)"
   ]
  }
 ],
 "metadata": {
  "colab": {
   "provenance": []
  },
  "kernelspec": {
   "display_name": "adv",
   "language": "python",
   "name": "python3"
  },
  "language_info": {
   "codemirror_mode": {
    "name": "ipython",
    "version": 3
   },
   "file_extension": ".py",
   "mimetype": "text/x-python",
   "name": "python",
   "nbconvert_exporter": "python",
   "pygments_lexer": "ipython3",
   "version": "3.13.5"
  }
 },
 "nbformat": 4,
 "nbformat_minor": 5
}